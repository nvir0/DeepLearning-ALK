{
 "cells": [
  {
   "cell_type": "markdown",
   "metadata": {
    "colab_type": "text"
   },
   "source": [
    "We'll finish by an introduction to PyTorch."
   ]
  },
  {
   "cell_type": "markdown",
   "metadata": {
    "colab_type": "text"
   },
   "source": [
    "## PyTorch and MNIST\n",
    "Let us first build an introductory model for the MNIST dataset.  \n",
    "More on MNIST can be found here: https://www.kaggle.com/hojjatk/mnist-dataset?msclkid=a59b1a61bffd11ec953ecf3f2a143919  \n",
    "PyTorch Tutorials: https://pytorch.org/tutorials/  \n",
    "Good video with intros: https://www.youtube.com/watch?v=OMDn66kM9Qc  "
   ]
  },
  {
   "cell_type": "markdown",
   "metadata": {
    "colab_type": "text"
   },
   "source": [
    "**Loading the MNIST dataset in PyTorch**"
   ]
  },
  {
   "cell_type": "code",
   "execution_count": 143,
   "metadata": {},
   "outputs": [],
   "source": [
    "import torch\n",
    "from torchvision import transforms\n",
    "import torch.nn as nn\n",
    "import torch.nn.functional as f\n",
    "import torchvision.datasets as datasets"
   ]
  },
  {
   "cell_type": "markdown",
   "metadata": {},
   "source": [
    ".ToTensor()"
   ]
  },
  {
   "cell_type": "code",
   "execution_count": 126,
   "metadata": {
    "colab_type": "code"
   },
   "outputs": [],
   "source": [
    "batch_size = 32\n",
    "valid_size = 0.2\n",
    "\n",
    "\n",
    "transform = transforms.ToTensor()\n",
    "\n",
    "train_data = datasets.MNIST(root='data', train=True,\n",
    "                                   download=True, transform=transform)\n",
    "test_data = datasets.MNIST(root='data', train=False,\n",
    "                                  download=True, transform=transform)"
   ]
  },
  {
   "cell_type": "code",
   "execution_count": 127,
   "metadata": {
    "colab_type": "code"
   },
   "outputs": [
    {
     "name": "stdout",
     "output_type": "stream",
     "text": [
      "Dataset MNIST\n",
      "    Number of datapoints: 60000\n",
      "    Root location: data\n",
      "    Split: Train\n",
      "    StandardTransform\n",
      "Transform: ToTensor()\n"
     ]
    }
   ],
   "source": [
    "print(train_data)"
   ]
  },
  {
   "cell_type": "markdown",
   "metadata": {},
   "source": [
    "**DataLoaders in PyTorch**"
   ]
  },
  {
   "cell_type": "markdown",
   "metadata": {},
   "source": [
    "DataLoader"
   ]
  },
  {
   "cell_type": "code",
   "execution_count": 128,
   "metadata": {},
   "outputs": [],
   "source": [
    "num_workers = 0\n",
    "\n",
    "train_loader = torch.utils.data.DataLoader(train_data, batch_size=batch_size,\n",
    "    num_workers=num_workers)\n",
    "\n",
    "test_loader = torch.utils.data.DataLoader(test_data, batch_size=batch_size,\n",
    "    num_workers=num_workers, shuffle=True)"
   ]
  },
  {
   "cell_type": "markdown",
   "metadata": {},
   "source": [
    "**Building a network**"
   ]
  },
  {
   "cell_type": "code",
   "execution_count": 129,
   "metadata": {},
   "outputs": [],
   "source": [
    "class model_mnist(nn.Module):\n",
    "    def __init__(self):\n",
    "        super(model_mnist, self).__init__()\n",
    "        self.input_dense=nn.Linear(28*28,510)\n",
    "        self.output_dense=nn.Linear(510,10)\n",
    "        \n",
    "    def forward(self,x):\n",
    "        x=f.relu(self.input_dense(x)) \n",
    "        pred=self.output_dense(x)\n",
    "        return pred"
   ]
  },
  {
   "cell_type": "code",
   "execution_count": 130,
   "metadata": {},
   "outputs": [],
   "source": [
    "model=model_mnist()"
   ]
  },
  {
   "cell_type": "code",
   "execution_count": 131,
   "metadata": {},
   "outputs": [
    {
     "name": "stdout",
     "output_type": "stream",
     "text": [
      "<bound method Module.parameters of model_mnist(\n",
      "  (input_dense): Linear(in_features=784, out_features=510, bias=True)\n",
      "  (output_dense): Linear(in_features=510, out_features=10, bias=True)\n",
      ")>\n"
     ]
    }
   ],
   "source": [
    "print(model.parameters)"
   ]
  },
  {
   "cell_type": "code",
   "execution_count": 132,
   "metadata": {},
   "outputs": [],
   "source": [
    "learning_rate = 0.01\n",
    "\n",
    "loss=nn.CrossEntropyLoss()\n",
    "optimizer=torch.optim.Adam(model.parameters(),lr=learning_rate)"
   ]
  },
  {
   "cell_type": "code",
   "execution_count": 144,
   "metadata": {},
   "outputs": [
    {
     "name": "stdout",
     "output_type": "stream",
     "text": [
      "Epochs [1/5], Step[1875/1875], Losses: 0.000000\n",
      "Epochs [2/5], Step[1875/1875], Losses: 0.000006\n",
      "Epochs [3/5], Step[1875/1875], Losses: 0.000010\n",
      "Epochs [4/5], Step[1875/1875], Losses: 0.000028\n",
      "Epochs [5/5], Step[1875/1875], Losses: 0.000000\n"
     ]
    }
   ],
   "source": [
    "num_epochs = 5\n",
    "train_loss = list()\n",
    "\n",
    "for epoch in range(num_epochs):\n",
    "    total_train_loss = 0\n",
    "    \n",
    "    model.train()\n",
    "    \n",
    "    # training\n",
    "    for i, (image, label) in enumerate(train_loader):\n",
    "\n",
    "        image = image.reshape(-1, 28*28)\n",
    "        # optimizing gradients to zero before training \n",
    "        \n",
    "        optimizer.zero_grad()\n",
    "\n",
    "        pred = model(image)\n",
    "\n",
    "        losses = loss(pred, label)\n",
    "        total_train_loss += losses.item()\n",
    "\n",
    "        losses.backward()\n",
    "        optimizer.step()\n",
    "\n",
    "    total_train_loss = total_train_loss / (i + 1)\n",
    "    train_loss.append(total_train_loss)\n",
    "\n",
    "    print (f'Epochs [{epoch+1}/{num_epochs}], Step[{i+1}/{len(train_loader)}], Losses: {losses.item():.6f}')"
   ]
  },
  {
   "cell_type": "code",
   "execution_count": 145,
   "metadata": {},
   "outputs": [
    {
     "name": "stdout",
     "output_type": "stream",
     "text": [
      "Test accuracy 0.9667\n"
     ]
    }
   ],
   "source": [
    "model.eval()\n",
    "\n",
    "results = list()\n",
    "total = 0\n",
    "for i, (image, label) in enumerate(test_loader):\n",
    "\n",
    "    image = image.reshape(-1, 28*28)\n",
    "\n",
    "    pred = model(image)\n",
    "    pred = torch.nn.functional.softmax(pred, dim=1)\n",
    "\n",
    "    for j, p in enumerate(pred):\n",
    "        if label[j] == torch.max(p.data, 0)[1]:\n",
    "            total = total + 1\n",
    "            #print(j)\n",
    "            results.append((image, torch.max(p.data, 0)[1]))\n",
    "\n",
    "test_accuracy = total / (i*batch_size)\n",
    "print('Test accuracy {:.4f}'.format(test_accuracy))"
   ]
  }
 ],
 "metadata": {
  "colab": {
   "collapsed_sections": [],
   "name": "keras-intro.i",
   "private_outputs": false,
   "provenance": [],
   "toc_visible": true
  },
  "interpreter": {
   "hash": "c78e648b70bd4622eb7f7104fe06e18ed081491b2a2138b7f969e037c324c796"
  },
  "kernelspec": {
   "display_name": "Python 3.9.6 64-bit",
   "language": "python",
   "name": "python3"
  },
  "language_info": {
   "codemirror_mode": {
    "name": "ipython",
    "version": 3
   },
   "file_extension": ".py",
   "mimetype": "text/x-python",
   "name": "python",
   "nbconvert_exporter": "python",
   "pygments_lexer": "ipython3",
   "version": "3.9.6"
  }
 },
 "nbformat": 4,
 "nbformat_minor": 0
}
